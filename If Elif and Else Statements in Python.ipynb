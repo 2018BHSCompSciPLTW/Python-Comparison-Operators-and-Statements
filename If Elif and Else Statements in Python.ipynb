{
 "cells": [
  {
   "cell_type": "markdown",
   "metadata": {},
   "source": [
    "1. Why is white space important in python?"
   ]
  },
  {
   "cell_type": "markdown",
   "metadata": {},
   "source": [
    "Answer:"
   ]
  },
  {
   "cell_type": "markdown",
   "metadata": {},
   "source": [
    "2. Using an if statement, when 7 > 5, then print, 'Why yes it is'"
   ]
  },
  {
   "cell_type": "code",
   "execution_count": null,
   "metadata": {},
   "outputs": [],
   "source": []
  },
  {
   "cell_type": "markdown",
   "metadata": {},
   "source": [
    "3. Set the variable: gb equal to True. Next use an if statement, along with the variable: gb, and a print function to return an output of 'Super Bowl Champs'."
   ]
  },
  {
   "cell_type": "code",
   "execution_count": null,
   "metadata": {},
   "outputs": [],
   "source": []
  },
  {
   "cell_type": "markdown",
   "metadata": {},
   "source": [
    "4. Create an if else statement using the following information:\n",
    "\n",
    "cubs = false\n",
    "if cubs is true, then print 'W'\n",
    "else print 'Fear the Goat!'\n",
    "\n",
    "(hint: your output should be the goat!)"
   ]
  },
  {
   "cell_type": "code",
   "execution_count": null,
   "metadata": {},
   "outputs": [],
   "source": []
  },
  {
   "cell_type": "markdown",
   "metadata": {},
   "source": [
    "5. Create an if else statement using the following information:\n",
    "\n",
    "pitch = 'Strike'\n",
    "In the If statement, pitch == 'Ball', print 'You are OUT!'\n",
    "else print 'Walk'"
   ]
  },
  {
   "cell_type": "code",
   "execution_count": null,
   "metadata": {},
   "outputs": [],
   "source": []
  },
  {
   "cell_type": "markdown",
   "metadata": {},
   "source": [
    "6. Use the same information in question 5 but in the If statment, change pitch == 'Strike'"
   ]
  },
  {
   "cell_type": "code",
   "execution_count": null,
   "metadata": {},
   "outputs": [],
   "source": []
  },
  {
   "cell_type": "markdown",
   "metadata": {},
   "source": [
    "7. Compare the output you got for questions 5 and 6.  Why are they different?"
   ]
  },
  {
   "cell_type": "markdown",
   "metadata": {},
   "source": [
    "Answer:"
   ]
  },
  {
   "cell_type": "markdown",
   "metadata": {},
   "source": [
    "8. Create an if elif else statement using the following information:\n",
    "\n",
    "tree = 'Maple'\n",
    "in the IF statement, tree == 'Oak', print 'Hardwood'\n",
    "in the ELIF statement, tree == 'Maple', print 'Soft wood'\n",
    "in the ELSE statement, print 'It is not wood'\n",
    "\n",
    "What is your output?"
   ]
  },
  {
   "cell_type": "code",
   "execution_count": null,
   "metadata": {},
   "outputs": [],
   "source": []
  },
  {
   "cell_type": "markdown",
   "metadata": {},
   "source": [
    "9. Create an if elif else statement using the following information:\n",
    "\n",
    "name = 'Gio'\n",
    "in the IF statement, name == 'Gio', print 'Gonzalez'\n",
    "in the ELIF statement, name == 'Zach', print 'Davies'\n",
    "in the ELSE statement, print 'Who are you?'"
   ]
  },
  {
   "cell_type": "code",
   "execution_count": null,
   "metadata": {},
   "outputs": [],
   "source": []
  }
 ],
 "metadata": {
  "kernelspec": {
   "display_name": "Python 3",
   "language": "python",
   "name": "python3"
  },
  "language_info": {
   "codemirror_mode": {
    "name": "ipython",
    "version": 3
   },
   "file_extension": ".py",
   "mimetype": "text/x-python",
   "name": "python",
   "nbconvert_exporter": "python",
   "pygments_lexer": "ipython3",
   "version": "3.6.5"
  }
 },
 "nbformat": 4,
 "nbformat_minor": 2
}
